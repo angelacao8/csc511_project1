{
 "cells": [
  {
   "cell_type": "code",
   "execution_count": 1,
   "id": "506907e5-9656-424b-9055-1476e915bf6d",
   "metadata": {},
   "outputs": [],
   "source": [
    "import pandas as pd\n",
    "import numpy as np\n",
    "import json"
   ]
  },
  {
   "cell_type": "code",
   "execution_count": 2,
   "id": "cc374e37-30ee-4a06-b6da-972d2a1b70ac",
   "metadata": {},
   "outputs": [
    {
     "name": "stdout",
     "output_type": "stream",
     "text": [
      "/data/angelacao/ontological-scaffolding/scripts/csc511_project1\n"
     ]
    }
   ],
   "source": [
    "!pwd"
   ]
  },
  {
   "cell_type": "code",
   "execution_count": 7,
   "id": "c05e9c18-5a53-409d-a178-58c20191d002",
   "metadata": {},
   "outputs": [
    {
     "data": {
      "text/html": [
       "<div>\n",
       "<style scoped>\n",
       "    .dataframe tbody tr th:only-of-type {\n",
       "        vertical-align: middle;\n",
       "    }\n",
       "\n",
       "    .dataframe tbody tr th {\n",
       "        vertical-align: top;\n",
       "    }\n",
       "\n",
       "    .dataframe thead th {\n",
       "        text-align: right;\n",
       "    }\n",
       "</style>\n",
       "<table border=\"1\" class=\"dataframe\">\n",
       "  <thead>\n",
       "    <tr style=\"text-align: right;\">\n",
       "      <th></th>\n",
       "      <th>answer</th>\n",
       "      <th>id</th>\n",
       "      <th>zero_shot</th>\n",
       "      <th>few_shot</th>\n",
       "    </tr>\n",
       "  </thead>\n",
       "  <tbody>\n",
       "    <tr>\n",
       "      <th>398</th>\n",
       "      <td>9.0</td>\n",
       "      <td>chal-399</td>\n",
       "      <td>3.5</td>\n",
       "      <td>12.0</td>\n",
       "    </tr>\n",
       "    <tr>\n",
       "      <th>997</th>\n",
       "      <td>220.0</td>\n",
       "      <td>chal-998</td>\n",
       "      <td>19.5</td>\n",
       "      <td>16.5</td>\n",
       "    </tr>\n",
       "    <tr>\n",
       "      <th>372</th>\n",
       "      <td>3.0</td>\n",
       "      <td>chal-373</td>\n",
       "      <td>17.0</td>\n",
       "      <td>1.6</td>\n",
       "    </tr>\n",
       "  </tbody>\n",
       "</table>\n",
       "</div>"
      ],
      "text/plain": [
       "     answer        id  zero_shot  few_shot\n",
       "398     9.0  chal-399        3.5      12.0\n",
       "997   220.0  chal-998       19.5      16.5\n",
       "372     3.0  chal-373       17.0       1.6"
      ]
     },
     "execution_count": 7,
     "metadata": {},
     "output_type": "execute_result"
    }
   ],
   "source": [
    "no_cot_df = pd.read_csv(\"outs/arithmetic_fewshot_zeroshot_outs.csv\")\n",
    "no_cot_df.sample(3)"
   ]
  },
  {
   "cell_type": "code",
   "execution_count": 8,
   "id": "46de972f-8f1e-425d-8064-cb82bfa1848b",
   "metadata": {},
   "outputs": [
    {
     "data": {
      "text/html": [
       "<div>\n",
       "<style scoped>\n",
       "    .dataframe tbody tr th:only-of-type {\n",
       "        vertical-align: middle;\n",
       "    }\n",
       "\n",
       "    .dataframe tbody tr th {\n",
       "        vertical-align: top;\n",
       "    }\n",
       "\n",
       "    .dataframe thead th {\n",
       "        text-align: right;\n",
       "    }\n",
       "</style>\n",
       "<table border=\"1\" class=\"dataframe\">\n",
       "  <thead>\n",
       "    <tr style=\"text-align: right;\">\n",
       "      <th></th>\n",
       "      <th>answer</th>\n",
       "      <th>id</th>\n",
       "      <th>zero_shot</th>\n",
       "      <th>few_shot</th>\n",
       "      <th>zero_shot_cot</th>\n",
       "      <th>few_shot_cot</th>\n",
       "    </tr>\n",
       "  </thead>\n",
       "  <tbody>\n",
       "    <tr>\n",
       "      <th>412</th>\n",
       "      <td>98.0</td>\n",
       "      <td>chal-413</td>\n",
       "      <td>NaN</td>\n",
       "      <td>NaN</td>\n",
       "      <td>40.0</td>\n",
       "      <td>35.500000</td>\n",
       "    </tr>\n",
       "    <tr>\n",
       "      <th>730</th>\n",
       "      <td>6.0</td>\n",
       "      <td>chal-731</td>\n",
       "      <td>NaN</td>\n",
       "      <td>NaN</td>\n",
       "      <td>53.0</td>\n",
       "      <td>22.572917</td>\n",
       "    </tr>\n",
       "    <tr>\n",
       "      <th>892</th>\n",
       "      <td>9.0</td>\n",
       "      <td>chal-893</td>\n",
       "      <td>NaN</td>\n",
       "      <td>NaN</td>\n",
       "      <td>60.0</td>\n",
       "      <td>61.042944</td>\n",
       "    </tr>\n",
       "  </tbody>\n",
       "</table>\n",
       "</div>"
      ],
      "text/plain": [
       "     answer        id  zero_shot  few_shot  zero_shot_cot  few_shot_cot\n",
       "412    98.0  chal-413        NaN       NaN           40.0     35.500000\n",
       "730     6.0  chal-731        NaN       NaN           53.0     22.572917\n",
       "892     9.0  chal-893        NaN       NaN           60.0     61.042944"
      ]
     },
     "execution_count": 8,
     "metadata": {},
     "output_type": "execute_result"
    }
   ],
   "source": [
    "cot_df = pd.read_csv(\"outs/arithmetic_fewshot_zeroshot_cot_outs.csv\")\n",
    "cot_df.sample(3)"
   ]
  },
  {
   "cell_type": "code",
   "execution_count": 9,
   "id": "1a526e1f-f580-432c-8b1e-368bf0db2db7",
   "metadata": {},
   "outputs": [
    {
     "data": {
      "text/html": [
       "<div>\n",
       "<style scoped>\n",
       "    .dataframe tbody tr th:only-of-type {\n",
       "        vertical-align: middle;\n",
       "    }\n",
       "\n",
       "    .dataframe tbody tr th {\n",
       "        vertical-align: top;\n",
       "    }\n",
       "\n",
       "    .dataframe thead th {\n",
       "        text-align: right;\n",
       "    }\n",
       "</style>\n",
       "<table border=\"1\" class=\"dataframe\">\n",
       "  <thead>\n",
       "    <tr style=\"text-align: right;\">\n",
       "      <th></th>\n",
       "      <th>answer</th>\n",
       "      <th>id</th>\n",
       "      <th>two_shot_cot</th>\n",
       "    </tr>\n",
       "  </thead>\n",
       "  <tbody>\n",
       "    <tr>\n",
       "      <th>289</th>\n",
       "      <td>745.0</td>\n",
       "      <td>chal-290</td>\n",
       "      <td>55200.000000</td>\n",
       "    </tr>\n",
       "    <tr>\n",
       "      <th>45</th>\n",
       "      <td>32.0</td>\n",
       "      <td>chal-46</td>\n",
       "      <td>56.072827</td>\n",
       "    </tr>\n",
       "    <tr>\n",
       "      <th>35</th>\n",
       "      <td>1.0</td>\n",
       "      <td>chal-36</td>\n",
       "      <td>4.000000</td>\n",
       "    </tr>\n",
       "  </tbody>\n",
       "</table>\n",
       "</div>"
      ],
      "text/plain": [
       "     answer        id  two_shot_cot\n",
       "289   745.0  chal-290  55200.000000\n",
       "45     32.0   chal-46     56.072827\n",
       "35      1.0   chal-36      4.000000"
      ]
     },
     "execution_count": 9,
     "metadata": {},
     "output_type": "execute_result"
    }
   ],
   "source": [
    "twoshot_df = pd.read_csv(\"outs/arithmetic_twoshot_cot_outs.csv\")\n",
    "twoshot_df.sample(3)"
   ]
  },
  {
   "cell_type": "code",
   "execution_count": 19,
   "id": "d56d98c8-27b7-4a82-b292-dd641d222ab7",
   "metadata": {},
   "outputs": [
    {
     "name": "stdout",
     "output_type": "stream",
     "text": [
      "           id   zero_shot  few_shot  zero_shot_cot  few_shot_cot  answer  \\\n",
      "300  chal-301   87.000000      35.0      100.00000          28.0    28.0   \n",
      "708  chal-709   49.000000      58.0        9.00000           7.0     9.0   \n",
      "915  chal-916  468.468468     385.0      485.06123         253.0   253.0   \n",
      "\n",
      "     two_shot_cot  \n",
      "300        28.000  \n",
      "708         8.000  \n",
      "915      4850.232  \n"
     ]
    },
    {
     "data": {
      "image/png": "[encoded data removed]",
      "text/plain": [
       "<Figure size 640x480 with 1 Axes>"
      ]
     },
     "metadata": {},
     "output_type": "display_data"
    }
   ],
   "source": [
    "import pandas as pd\n",
    "import matplotlib.pyplot as plt\n",
    "\n",
    "# Load the dataframes\n",
    "no_cot_df = pd.read_csv(\"outs/arithmetic_fewshot_zeroshot_outs.csv\")\n",
    "cot_df = pd.read_csv(\"outs/arithmetic_fewshot_zeroshot_cot_outs.csv\")\n",
    "twoshot_df = pd.read_csv(\"outs/arithmetic_twoshot_cot_outs.csv\")\n",
    "\n",
    "# Merge the dataframes based on the 'id' column\n",
    "merged_df = no_cot_df.merge(cot_df, on=\"id\", how=\"outer\").merge(twoshot_df, on=\"id\", how=\"outer\")\n",
    "\n",
    "# List of columns to compare with 'answer'\n",
    "columns_to_compare = [\"zero_shot\", \"few_shot\", \"zero_shot_cot\", \"few_shot_cot\", \"two_shot_cot\"]\n",
    "\n",
    "# Drop redundant columns\n",
    "merged_df.drop(columns=['answer_x', 'answer_y', 'zero_shot_y', 'few_shot_y'], inplace=True)\n",
    "\n",
    "# Rename columns for clarity\n",
    "merged_df = merged_df.rename(columns={\"zero_shot_x\": \"zero_shot\", \"few_shot_x\": \"few_shot\"})\n",
    "\n",
    "# Display a sample of the merged DataFrame\n",
    "print(merged_df.sample(3))\n",
    "\n",
    "# Count matches with 'answer' column\n",
    "match_counts = {col: (merged_df[col] == merged_df['answer']).sum() for col in columns_to_compare}\n",
    "\n",
    "# Replace \"two_shot_cot\" with \"neg_shot_cot\" in the match_counts dictionary\n",
    "match_counts['neg_shot_cot'] = match_counts.pop('two_shot_cot')\n",
    "\n",
    "# Plot the match counts as a bar chart\n",
    "plt.bar(match_counts.keys(), match_counts.values(), color='blue')\n",
    "plt.xlabel('Methods')\n",
    "plt.ylabel('Count of Correct Answers')\n",
    "plt.title('Count of Correct Answers per Method')\n",
    "\n",
    "# Show the plot\n",
    "plt.show()\n"
   ]
  },
  {
   "cell_type": "code",
   "execution_count": null,
   "id": "662bdca4-9115-4236-b675-6cc5552e8d4a",
   "metadata": {},
   "outputs": [],
   "source": []
  }
 ],
 "metadata": {
  "kernelspec": {
   "display_name": "Python 3 (ipykernel)",
   "language": "python",
   "name": "python3"
  },
  "language_info": {
   "codemirror_mode": {
    "name": "ipython",
    "version": 3
   },
   "file_extension": ".py",
   "mimetype": "text/x-python",
   "name": "python",
   "nbconvert_exporter": "python",
   "pygments_lexer": "ipython3",
   "version": "3.11.4"
  }
 },
 "nbformat": 4,
 "nbformat_minor": 5
}
